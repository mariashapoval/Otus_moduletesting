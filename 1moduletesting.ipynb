{
  "nbformat": 4,
  "nbformat_minor": 0,
  "metadata": {
    "colab": {
      "provenance": [],
      "name": "1moduletesting.ipynb",
      "authorship_tag": "ABX9TyMbRsxLrqCITyxCHNPXuo+y",
      "include_colab_link": true
    },
    "kernelspec": {
      "name": "python3",
      "display_name": "Python 3"
    },
    "language_info": {
      "name": "python"
    }
  },
  "cells": [
    {
      "cell_type": "markdown",
      "metadata": {
        "id": "view-in-github",
        "colab_type": "text"
      },
      "source": [
        "<a href=\"https://colab.research.google.com/github/mariashapoval/Otus_moduletesting/blob/main/1moduletesting.ipynb\" target=\"_parent\"><img src=\"https://colab.research.google.com/assets/colab-badge.svg\" alt=\"Open In Colab\"/></a>"
      ]
    },
    {
      "cell_type": "code",
      "source": [
        "import unittest"
      ],
      "metadata": {
        "id": "qlq9adk1l7nY"
      },
      "execution_count": null,
      "outputs": []
    },
    {
      "cell_type": "code",
      "source": [
        "#1. Написать тест, который проверяет, что для уравнения x^2+1 = 0 корней нет (возвращается пустой массив)\n",
        "#2. Написать тест, который проверяет, что коэффициент a не может быть равен 0. В этом случае solve выбрасывает исключение.\n",
        "import unittest\n",
        "def test_1(self):\n",
        "  self.assertEqual(x**2+1, 0)\n",
        "  self.assertEqual(-1**2+1, 0)\n",
        "  with self.assertRaises(ValueError):\n",
        "    x(0)\n",
        "test_function = test_1"
      ],
      "metadata": {
        "id": "QdChRibFfBO1"
      },
      "execution_count": null,
      "outputs": []
    },
    {
      "cell_type": "code",
      "source": [
        "#3. Написать минимальную реализацию функции solve, которая удовлетворяет данному тесту.\n",
        "#4. Написать тест, который проверяет, что для уравнения x^2-1 = 0 есть два корня кратности 1 (x1=1, x2=-1)\n",
        "from sympy import symbols, Eq, solve\n",
        "\n",
        "x = symbols('x')\n",
        "\n",
        "eq = Eq((x**2+1), 0)\n",
        "print(\"Equation:\")\n",
        "print(eq)\n",
        "\n",
        "print(\"Value is:\")\n",
        "print(solve((eq), (x)))"
      ],
      "metadata": {
        "colab": {
          "base_uri": "https://localhost:8080/"
        },
        "id": "Q-6qqFYaqZQ6",
        "outputId": "cf2e4f09-c4fb-4dac-9707-1e7d95ae1760"
      },
      "execution_count": null,
      "outputs": [
        {
          "output_type": "stream",
          "name": "stdout",
          "text": [
            "Equation:\n",
            "Eq(x**2 + 1, 0)\n",
            "Value is:\n",
            "[-I, I]\n"
          ]
        }
      ]
    },
    {
      "cell_type": "code",
      "source": [
        "#5. Написать тест, который проверяет, что для уравнения x^2+2x+1 = 0 есть один корень кратности 2 (x1= x2 = -1)\n",
        "#6. Написать минимальную реализацию функции solve, которая удовлетворяет тесту.\n",
        "from sympy import symbols, Eq, solve\n",
        "\n",
        "x = symbols('x')\n",
        "\n",
        "eq = Eq((x**2+2*x+1), 0)\n",
        "print(\"Equation:\")\n",
        "print(eq)\n",
        "\n",
        "print(\"Value is:\")\n",
        "print(solve((eq), (x)))"
      ],
      "metadata": {
        "colab": {
          "base_uri": "https://localhost:8080/"
        },
        "id": "YEZn_YwMsHSP",
        "outputId": "9e02a3d4-bc66-410b-a54c-9e65fcff32bc"
      },
      "execution_count": null,
      "outputs": [
        {
          "output_type": "stream",
          "name": "stdout",
          "text": [
            "Equation:\n",
            "Eq(x**2 + 2*x + 1, 0)\n",
            "Value is:\n",
            "[-1]\n"
          ]
        }
      ]
    }
  ]
}